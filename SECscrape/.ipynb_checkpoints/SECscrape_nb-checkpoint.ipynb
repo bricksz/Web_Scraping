{
 "cells": [
  {
   "cell_type": "code",
   "execution_count": 126,
   "metadata": {
    "collapsed": true
   },
   "outputs": [],
   "source": [
    "from urllib.request import urlopen\n",
    "from urllib.error import HTTPError\n",
    "from urllib.error import URLError\n",
    "from bs4 import BeautifulSoup\n",
    "from time import strftime\n",
    "from datetime import datetime, timedelta\n",
    "import numpy as np\n",
    "import pandas as pd\n",
    "import datetime as dt\n",
    "import html5lib\n",
    "import lxml\n",
    "import requests"
   ]
  },
  {
   "cell_type": "code",
   "execution_count": 127,
   "metadata": {
    "collapsed": true
   },
   "outputs": [],
   "source": [
    "#Col1-1-Financials-Proxy span"
   ]
  },
  {
   "cell_type": "code",
   "execution_count": 138,
   "metadata": {
    "collapsed": true
   },
   "outputs": [],
   "source": [
    "url = 'https://finance.yahoo.com/quote/PG/financials?p=PG'\n",
    "html = requests.get(url).text\n",
    "soup = BeautifulSoup(html,'html.parser')"
   ]
  },
  {
   "cell_type": "code",
   "execution_count": 133,
   "metadata": {
    "collapsed": true
   },
   "outputs": [],
   "source": [
    "import re\n",
    "import json\n",
    "\n",
    "soup_script = soup.find(\"script\",text=re.compile(\"root.App.main\")).text\n",
    "json_script = json.loads(re.search(\"root.App.main\\s+=\\s+(\\{.*\\})\",soup_script)[1])\n",
    "fin_data = json_script['context']['dispatcher']['stores']['QuoteSummaryStore']"
   ]
  },
  {
   "cell_type": "code",
   "execution_count": 149,
   "metadata": {
    "collapsed": true
   },
   "outputs": [],
   "source": [
    "cash_yr = fin_data['cashflowStatementHistory']['cashflowStatements']\n",
    "cash_qtrs = fin_data['cashflowStatementHistoryQuarterly']['cashflowStatements']\n",
    "income = fin_data['incomeStatementHistoryQuarterly']['incomeStatementHistory']"
   ]
  },
  {
   "cell_type": "code",
   "execution_count": 190,
   "metadata": {},
   "outputs": [
    {
     "data": {
      "text/plain": [
       "4"
      ]
     },
     "execution_count": 190,
     "metadata": {},
     "output_type": "execute_result"
    }
   ],
   "source": [
    "len(income)"
   ]
  },
  {
   "cell_type": "code",
   "execution_count": 180,
   "metadata": {},
   "outputs": [
    {
     "data": {
      "text/plain": [
       "[{'costOfRevenue': {'fmt': '8.34B',\n",
       "   'longFmt': '8,343,000,000',\n",
       "   'raw': 8343000000},\n",
       "  'discontinuedOperations': {},\n",
       "  'ebit': {'fmt': '3.39B', 'longFmt': '3,386,000,000', 'raw': 3386000000},\n",
       "  'effectOfAccountingCharges': {},\n",
       "  'endDate': {'fmt': '2018-03-31', 'raw': 1522454400},\n",
       "  'extraordinaryItems': {},\n",
       "  'grossProfit': {'fmt': '7.94B',\n",
       "   'longFmt': '7,938,000,000',\n",
       "   'raw': 7938000000},\n",
       "  'incomeBeforeTax': {'fmt': '3.25B',\n",
       "   'longFmt': '3,253,000,000',\n",
       "   'raw': 3253000000},\n",
       "  'incomeTaxExpense': {'fmt': '713M',\n",
       "   'longFmt': '713,000,000',\n",
       "   'raw': 713000000},\n",
       "  'interestExpense': {'fmt': '133M',\n",
       "   'longFmt': '133,000,000',\n",
       "   'raw': 133000000},\n",
       "  'maxAge': 1,\n",
       "  'minorityInterest': {'fmt': '631M',\n",
       "   'longFmt': '631,000,000',\n",
       "   'raw': 631000000},\n",
       "  'netIncome': {'fmt': '2.51B', 'longFmt': '2,511,000,000', 'raw': 2511000000},\n",
       "  'netIncomeApplicableToCommonShares': {'fmt': '2.51B',\n",
       "   'longFmt': '2,511,000,000',\n",
       "   'raw': 2511000000},\n",
       "  'netIncomeFromContinuingOps': {'fmt': '2.54B',\n",
       "   'longFmt': '2,540,000,000',\n",
       "   'raw': 2540000000},\n",
       "  'nonRecurring': {},\n",
       "  'operatingIncome': {'fmt': '3.3B',\n",
       "   'longFmt': '3,296,000,000',\n",
       "   'raw': 3296000000},\n",
       "  'otherItems': {},\n",
       "  'otherOperatingExpenses': {},\n",
       "  'researchDevelopment': {},\n",
       "  'sellingGeneralAdministrative': {'fmt': '4.64B',\n",
       "   'longFmt': '4,642,000,000',\n",
       "   'raw': 4642000000},\n",
       "  'totalOperatingExpenses': {'fmt': None, 'longFmt': '0', 'raw': 0},\n",
       "  'totalOtherIncomeExpenseNet': {'fmt': '90M',\n",
       "   'longFmt': '90,000,000',\n",
       "   'raw': 90000000},\n",
       "  'totalRevenue': {'fmt': '16.28B',\n",
       "   'longFmt': '16,281,000,000',\n",
       "   'raw': 16281000000}},\n",
       " {'costOfRevenue': {'fmt': '8.67B',\n",
       "   'longFmt': '8,667,000,000',\n",
       "   'raw': 8667000000},\n",
       "  'discontinuedOperations': {},\n",
       "  'ebit': {'fmt': '4.16B', 'longFmt': '4,155,000,000', 'raw': 4155000000},\n",
       "  'effectOfAccountingCharges': {},\n",
       "  'endDate': {'fmt': '2017-12-31', 'raw': 1514678400},\n",
       "  'extraordinaryItems': {},\n",
       "  'grossProfit': {'fmt': '8.73B',\n",
       "   'longFmt': '8,728,000,000',\n",
       "   'raw': 8728000000},\n",
       "  'incomeBeforeTax': {'fmt': '4.03B',\n",
       "   'longFmt': '4,033,000,000',\n",
       "   'raw': 4033000000},\n",
       "  'incomeTaxExpense': {'fmt': '1.47B',\n",
       "   'longFmt': '1,472,000,000',\n",
       "   'raw': 1472000000},\n",
       "  'interestExpense': {'fmt': '122M',\n",
       "   'longFmt': '122,000,000',\n",
       "   'raw': 122000000},\n",
       "  'maxAge': 1,\n",
       "  'minorityInterest': {'fmt': '609M',\n",
       "   'longFmt': '609,000,000',\n",
       "   'raw': 609000000},\n",
       "  'netIncome': {'fmt': '2.5B', 'longFmt': '2,495,000,000', 'raw': 2495000000},\n",
       "  'netIncomeApplicableToCommonShares': {'fmt': '2.5B',\n",
       "   'longFmt': '2,495,000,000',\n",
       "   'raw': 2495000000},\n",
       "  'netIncomeFromContinuingOps': {'fmt': '2.56B',\n",
       "   'longFmt': '2,561,000,000',\n",
       "   'raw': 2561000000},\n",
       "  'nonRecurring': {},\n",
       "  'operatingIncome': {'fmt': '4B',\n",
       "   'longFmt': '4,003,000,000',\n",
       "   'raw': 4003000000},\n",
       "  'otherItems': {},\n",
       "  'otherOperatingExpenses': {},\n",
       "  'researchDevelopment': {},\n",
       "  'sellingGeneralAdministrative': {'fmt': '4.72B',\n",
       "   'longFmt': '4,725,000,000',\n",
       "   'raw': 4725000000},\n",
       "  'totalOperatingExpenses': {'fmt': None, 'longFmt': '0', 'raw': 0},\n",
       "  'totalOtherIncomeExpenseNet': {'fmt': '152M',\n",
       "   'longFmt': '152,000,000',\n",
       "   'raw': 152000000},\n",
       "  'totalRevenue': {'fmt': '17.39B',\n",
       "   'longFmt': '17,395,000,000',\n",
       "   'raw': 17395000000}},\n",
       " {'costOfRevenue': {'fmt': '8.23B',\n",
       "   'longFmt': '8,229,000,000',\n",
       "   'raw': 8229000000},\n",
       "  'discontinuedOperations': {},\n",
       "  'ebit': {'fmt': '3.87B', 'longFmt': '3,866,000,000', 'raw': 3866000000},\n",
       "  'effectOfAccountingCharges': {},\n",
       "  'endDate': {'fmt': '2017-09-30', 'raw': 1506729600},\n",
       "  'extraordinaryItems': {},\n",
       "  'grossProfit': {'fmt': '8.42B',\n",
       "   'longFmt': '8,424,000,000',\n",
       "   'raw': 8424000000},\n",
       "  'incomeBeforeTax': {'fmt': '3.75B',\n",
       "   'longFmt': '3,751,000,000',\n",
       "   'raw': 3751000000},\n",
       "  'incomeTaxExpense': {'fmt': '881M',\n",
       "   'longFmt': '881,000,000',\n",
       "   'raw': 881000000},\n",
       "  'interestExpense': {'fmt': '115M',\n",
       "   'longFmt': '115,000,000',\n",
       "   'raw': 115000000},\n",
       "  'maxAge': 1,\n",
       "  'minorityInterest': {'fmt': '597M',\n",
       "   'longFmt': '597,000,000',\n",
       "   'raw': 597000000},\n",
       "  'netIncome': {'fmt': '2.85B', 'longFmt': '2,853,000,000', 'raw': 2853000000},\n",
       "  'netIncomeApplicableToCommonShares': {'fmt': '2.85B',\n",
       "   'longFmt': '2,853,000,000',\n",
       "   'raw': 2853000000},\n",
       "  'netIncomeFromContinuingOps': {'fmt': '2.87B',\n",
       "   'longFmt': '2,870,000,000',\n",
       "   'raw': 2870000000},\n",
       "  'nonRecurring': {},\n",
       "  'operatingIncome': {'fmt': '3.73B',\n",
       "   'longFmt': '3,735,000,000',\n",
       "   'raw': 3735000000},\n",
       "  'otherItems': {},\n",
       "  'otherOperatingExpenses': {},\n",
       "  'researchDevelopment': {},\n",
       "  'sellingGeneralAdministrative': {'fmt': '4.69B',\n",
       "   'longFmt': '4,689,000,000',\n",
       "   'raw': 4689000000},\n",
       "  'totalOperatingExpenses': {'fmt': None, 'longFmt': '0', 'raw': 0},\n",
       "  'totalOtherIncomeExpenseNet': {'fmt': '131M',\n",
       "   'longFmt': '131,000,000',\n",
       "   'raw': 131000000},\n",
       "  'totalRevenue': {'fmt': '16.65B',\n",
       "   'longFmt': '16,653,000,000',\n",
       "   'raw': 16653000000}},\n",
       " {'costOfRevenue': {'fmt': '8.3B',\n",
       "   'longFmt': '8,299,000,000',\n",
       "   'raw': 8299000000},\n",
       "  'discontinuedOperations': {},\n",
       "  'ebit': {'fmt': '3.04B', 'longFmt': '3,043,000,000', 'raw': 3043000000},\n",
       "  'effectOfAccountingCharges': {},\n",
       "  'endDate': {'fmt': '2017-06-30', 'raw': 1498780800},\n",
       "  'extraordinaryItems': {},\n",
       "  'grossProfit': {'fmt': '7.78B',\n",
       "   'longFmt': '7,780,000,000',\n",
       "   'raw': 7780000000},\n",
       "  'incomeBeforeTax': {'fmt': '2.93B',\n",
       "   'longFmt': '2,927,000,000',\n",
       "   'raw': 2927000000},\n",
       "  'incomeTaxExpense': {'fmt': '725M',\n",
       "   'longFmt': '725,000,000',\n",
       "   'raw': 725000000},\n",
       "  'interestExpense': {'fmt': '116M',\n",
       "   'longFmt': '116,000,000',\n",
       "   'raw': 116000000},\n",
       "  'maxAge': 1,\n",
       "  'minorityInterest': {'fmt': '594M',\n",
       "   'longFmt': '594,000,000',\n",
       "   'raw': 594000000},\n",
       "  'netIncome': {'fmt': '2.21B', 'longFmt': '2,215,000,000', 'raw': 2215000000},\n",
       "  'netIncomeApplicableToCommonShares': {'fmt': '2.21B',\n",
       "   'longFmt': '2,215,000,000',\n",
       "   'raw': 2215000000},\n",
       "  'netIncomeFromContinuingOps': {'fmt': '2.2B',\n",
       "   'longFmt': '2,202,000,000',\n",
       "   'raw': 2202000000},\n",
       "  'nonRecurring': {},\n",
       "  'operatingIncome': {'fmt': '2.95B',\n",
       "   'longFmt': '2,949,000,000',\n",
       "   'raw': 2949000000},\n",
       "  'otherItems': {},\n",
       "  'otherOperatingExpenses': {},\n",
       "  'researchDevelopment': {},\n",
       "  'sellingGeneralAdministrative': {'fmt': '4.83B',\n",
       "   'longFmt': '4,831,000,000',\n",
       "   'raw': 4831000000},\n",
       "  'totalOperatingExpenses': {'fmt': None, 'longFmt': '0', 'raw': 0},\n",
       "  'totalOtherIncomeExpenseNet': {'fmt': '94M',\n",
       "   'longFmt': '94,000,000',\n",
       "   'raw': 94000000},\n",
       "  'totalRevenue': {'fmt': '16.08B',\n",
       "   'longFmt': '16,079,000,000',\n",
       "   'raw': 16079000000}}]"
      ]
     },
     "execution_count": 180,
     "metadata": {},
     "output_type": "execute_result"
    }
   ],
   "source": [
    "test = income.copy()\n",
    "test"
   ]
  },
  {
   "cell_type": "code",
   "execution_count": 162,
   "metadata": {
    "collapsed": true
   },
   "outputs": [],
   "source": [
    "import pandas as pd\n",
    "df = pd.DataFrame(income)"
   ]
  },
  {
   "cell_type": "code",
   "execution_count": 196,
   "metadata": {},
   "outputs": [
    {
     "data": {
      "text/html": [
       "<div>\n",
       "<style scoped>\n",
       "    .dataframe tbody tr th:only-of-type {\n",
       "        vertical-align: middle;\n",
       "    }\n",
       "\n",
       "    .dataframe tbody tr th {\n",
       "        vertical-align: top;\n",
       "    }\n",
       "\n",
       "    .dataframe thead th {\n",
       "        text-align: right;\n",
       "    }\n",
       "</style>\n",
       "<table border=\"1\" class=\"dataframe\">\n",
       "  <thead>\n",
       "    <tr style=\"text-align: right;\">\n",
       "      <th></th>\n",
       "      <th>costOfRevenue</th>\n",
       "      <th>discontinuedOperations</th>\n",
       "      <th>ebit</th>\n",
       "      <th>effectOfAccountingCharges</th>\n",
       "      <th>endDate</th>\n",
       "      <th>extraordinaryItems</th>\n",
       "      <th>grossProfit</th>\n",
       "      <th>incomeBeforeTax</th>\n",
       "      <th>incomeTaxExpense</th>\n",
       "      <th>interestExpense</th>\n",
       "      <th>...</th>\n",
       "      <th>netIncomeFromContinuingOps</th>\n",
       "      <th>nonRecurring</th>\n",
       "      <th>operatingIncome</th>\n",
       "      <th>otherItems</th>\n",
       "      <th>otherOperatingExpenses</th>\n",
       "      <th>researchDevelopment</th>\n",
       "      <th>sellingGeneralAdministrative</th>\n",
       "      <th>totalOperatingExpenses</th>\n",
       "      <th>totalOtherIncomeExpenseNet</th>\n",
       "      <th>totalRevenue</th>\n",
       "    </tr>\n",
       "  </thead>\n",
       "  <tbody>\n",
       "    <tr>\n",
       "      <th>0</th>\n",
       "      <td>{'raw': 8343000000, 'fmt': '8.34B', 'longFmt':...</td>\n",
       "      <td>{}</td>\n",
       "      <td>{'raw': 3386000000, 'fmt': '3.39B', 'longFmt':...</td>\n",
       "      <td>{}</td>\n",
       "      <td>{'raw': 1522454400, 'fmt': '2018-03-31'}</td>\n",
       "      <td>{}</td>\n",
       "      <td>{'raw': 7938000000, 'fmt': '7.94B', 'longFmt':...</td>\n",
       "      <td>{'raw': 3253000000, 'fmt': '3.25B', 'longFmt':...</td>\n",
       "      <td>{'raw': 713000000, 'fmt': '713M', 'longFmt': '...</td>\n",
       "      <td>{'raw': 133000000, 'fmt': '133M', 'longFmt': '...</td>\n",
       "      <td>...</td>\n",
       "      <td>{'raw': 2540000000, 'fmt': '2.54B', 'longFmt':...</td>\n",
       "      <td>{}</td>\n",
       "      <td>{'raw': 3296000000, 'fmt': '3.3B', 'longFmt': ...</td>\n",
       "      <td>{}</td>\n",
       "      <td>{}</td>\n",
       "      <td>{}</td>\n",
       "      <td>{'raw': 4642000000, 'fmt': '4.64B', 'longFmt':...</td>\n",
       "      <td>{'raw': 0, 'fmt': None, 'longFmt': '0'}</td>\n",
       "      <td>{'raw': 90000000, 'fmt': '90M', 'longFmt': '90...</td>\n",
       "      <td>{'raw': 16281000000, 'fmt': '16.28B', 'longFmt...</td>\n",
       "    </tr>\n",
       "    <tr>\n",
       "      <th>1</th>\n",
       "      <td>{'raw': 8667000000, 'fmt': '8.67B', 'longFmt':...</td>\n",
       "      <td>{}</td>\n",
       "      <td>{'raw': 4155000000, 'fmt': '4.16B', 'longFmt':...</td>\n",
       "      <td>{}</td>\n",
       "      <td>{'raw': 1514678400, 'fmt': '2017-12-31'}</td>\n",
       "      <td>{}</td>\n",
       "      <td>{'raw': 8728000000, 'fmt': '8.73B', 'longFmt':...</td>\n",
       "      <td>{'raw': 4033000000, 'fmt': '4.03B', 'longFmt':...</td>\n",
       "      <td>{'raw': 1472000000, 'fmt': '1.47B', 'longFmt':...</td>\n",
       "      <td>{'raw': 122000000, 'fmt': '122M', 'longFmt': '...</td>\n",
       "      <td>...</td>\n",
       "      <td>{'raw': 2561000000, 'fmt': '2.56B', 'longFmt':...</td>\n",
       "      <td>{}</td>\n",
       "      <td>{'raw': 4003000000, 'fmt': '4B', 'longFmt': '4...</td>\n",
       "      <td>{}</td>\n",
       "      <td>{}</td>\n",
       "      <td>{}</td>\n",
       "      <td>{'raw': 4725000000, 'fmt': '4.72B', 'longFmt':...</td>\n",
       "      <td>{'raw': 0, 'fmt': None, 'longFmt': '0'}</td>\n",
       "      <td>{'raw': 152000000, 'fmt': '152M', 'longFmt': '...</td>\n",
       "      <td>{'raw': 17395000000, 'fmt': '17.39B', 'longFmt...</td>\n",
       "    </tr>\n",
       "    <tr>\n",
       "      <th>2</th>\n",
       "      <td>{'raw': 8229000000, 'fmt': '8.23B', 'longFmt':...</td>\n",
       "      <td>{}</td>\n",
       "      <td>{'raw': 3866000000, 'fmt': '3.87B', 'longFmt':...</td>\n",
       "      <td>{}</td>\n",
       "      <td>{'raw': 1506729600, 'fmt': '2017-09-30'}</td>\n",
       "      <td>{}</td>\n",
       "      <td>{'raw': 8424000000, 'fmt': '8.42B', 'longFmt':...</td>\n",
       "      <td>{'raw': 3751000000, 'fmt': '3.75B', 'longFmt':...</td>\n",
       "      <td>{'raw': 881000000, 'fmt': '881M', 'longFmt': '...</td>\n",
       "      <td>{'raw': 115000000, 'fmt': '115M', 'longFmt': '...</td>\n",
       "      <td>...</td>\n",
       "      <td>{'raw': 2870000000, 'fmt': '2.87B', 'longFmt':...</td>\n",
       "      <td>{}</td>\n",
       "      <td>{'raw': 3735000000, 'fmt': '3.73B', 'longFmt':...</td>\n",
       "      <td>{}</td>\n",
       "      <td>{}</td>\n",
       "      <td>{}</td>\n",
       "      <td>{'raw': 4689000000, 'fmt': '4.69B', 'longFmt':...</td>\n",
       "      <td>{'raw': 0, 'fmt': None, 'longFmt': '0'}</td>\n",
       "      <td>{'raw': 131000000, 'fmt': '131M', 'longFmt': '...</td>\n",
       "      <td>{'raw': 16653000000, 'fmt': '16.65B', 'longFmt...</td>\n",
       "    </tr>\n",
       "    <tr>\n",
       "      <th>3</th>\n",
       "      <td>{'raw': 8299000000, 'fmt': '8.3B', 'longFmt': ...</td>\n",
       "      <td>{}</td>\n",
       "      <td>{'raw': 3043000000, 'fmt': '3.04B', 'longFmt':...</td>\n",
       "      <td>{}</td>\n",
       "      <td>{'raw': 1498780800, 'fmt': '2017-06-30'}</td>\n",
       "      <td>{}</td>\n",
       "      <td>{'raw': 7780000000, 'fmt': '7.78B', 'longFmt':...</td>\n",
       "      <td>{'raw': 2927000000, 'fmt': '2.93B', 'longFmt':...</td>\n",
       "      <td>{'raw': 725000000, 'fmt': '725M', 'longFmt': '...</td>\n",
       "      <td>{'raw': 116000000, 'fmt': '116M', 'longFmt': '...</td>\n",
       "      <td>...</td>\n",
       "      <td>{'raw': 2202000000, 'fmt': '2.2B', 'longFmt': ...</td>\n",
       "      <td>{}</td>\n",
       "      <td>{'raw': 2949000000, 'fmt': '2.95B', 'longFmt':...</td>\n",
       "      <td>{}</td>\n",
       "      <td>{}</td>\n",
       "      <td>{}</td>\n",
       "      <td>{'raw': 4831000000, 'fmt': '4.83B', 'longFmt':...</td>\n",
       "      <td>{'raw': 0, 'fmt': None, 'longFmt': '0'}</td>\n",
       "      <td>{'raw': 94000000, 'fmt': '94M', 'longFmt': '94...</td>\n",
       "      <td>{'raw': 16079000000, 'fmt': '16.08B', 'longFmt...</td>\n",
       "    </tr>\n",
       "  </tbody>\n",
       "</table>\n",
       "<p>4 rows × 24 columns</p>\n",
       "</div>"
      ],
      "text/plain": [
       "                                       costOfRevenue discontinuedOperations  \\\n",
       "0  {'raw': 8343000000, 'fmt': '8.34B', 'longFmt':...                     {}   \n",
       "1  {'raw': 8667000000, 'fmt': '8.67B', 'longFmt':...                     {}   \n",
       "2  {'raw': 8229000000, 'fmt': '8.23B', 'longFmt':...                     {}   \n",
       "3  {'raw': 8299000000, 'fmt': '8.3B', 'longFmt': ...                     {}   \n",
       "\n",
       "                                                ebit  \\\n",
       "0  {'raw': 3386000000, 'fmt': '3.39B', 'longFmt':...   \n",
       "1  {'raw': 4155000000, 'fmt': '4.16B', 'longFmt':...   \n",
       "2  {'raw': 3866000000, 'fmt': '3.87B', 'longFmt':...   \n",
       "3  {'raw': 3043000000, 'fmt': '3.04B', 'longFmt':...   \n",
       "\n",
       "  effectOfAccountingCharges                                   endDate  \\\n",
       "0                        {}  {'raw': 1522454400, 'fmt': '2018-03-31'}   \n",
       "1                        {}  {'raw': 1514678400, 'fmt': '2017-12-31'}   \n",
       "2                        {}  {'raw': 1506729600, 'fmt': '2017-09-30'}   \n",
       "3                        {}  {'raw': 1498780800, 'fmt': '2017-06-30'}   \n",
       "\n",
       "  extraordinaryItems                                        grossProfit  \\\n",
       "0                 {}  {'raw': 7938000000, 'fmt': '7.94B', 'longFmt':...   \n",
       "1                 {}  {'raw': 8728000000, 'fmt': '8.73B', 'longFmt':...   \n",
       "2                 {}  {'raw': 8424000000, 'fmt': '8.42B', 'longFmt':...   \n",
       "3                 {}  {'raw': 7780000000, 'fmt': '7.78B', 'longFmt':...   \n",
       "\n",
       "                                     incomeBeforeTax  \\\n",
       "0  {'raw': 3253000000, 'fmt': '3.25B', 'longFmt':...   \n",
       "1  {'raw': 4033000000, 'fmt': '4.03B', 'longFmt':...   \n",
       "2  {'raw': 3751000000, 'fmt': '3.75B', 'longFmt':...   \n",
       "3  {'raw': 2927000000, 'fmt': '2.93B', 'longFmt':...   \n",
       "\n",
       "                                    incomeTaxExpense  \\\n",
       "0  {'raw': 713000000, 'fmt': '713M', 'longFmt': '...   \n",
       "1  {'raw': 1472000000, 'fmt': '1.47B', 'longFmt':...   \n",
       "2  {'raw': 881000000, 'fmt': '881M', 'longFmt': '...   \n",
       "3  {'raw': 725000000, 'fmt': '725M', 'longFmt': '...   \n",
       "\n",
       "                                     interestExpense  \\\n",
       "0  {'raw': 133000000, 'fmt': '133M', 'longFmt': '...   \n",
       "1  {'raw': 122000000, 'fmt': '122M', 'longFmt': '...   \n",
       "2  {'raw': 115000000, 'fmt': '115M', 'longFmt': '...   \n",
       "3  {'raw': 116000000, 'fmt': '116M', 'longFmt': '...   \n",
       "\n",
       "                         ...                          \\\n",
       "0                        ...                           \n",
       "1                        ...                           \n",
       "2                        ...                           \n",
       "3                        ...                           \n",
       "\n",
       "                          netIncomeFromContinuingOps nonRecurring  \\\n",
       "0  {'raw': 2540000000, 'fmt': '2.54B', 'longFmt':...           {}   \n",
       "1  {'raw': 2561000000, 'fmt': '2.56B', 'longFmt':...           {}   \n",
       "2  {'raw': 2870000000, 'fmt': '2.87B', 'longFmt':...           {}   \n",
       "3  {'raw': 2202000000, 'fmt': '2.2B', 'longFmt': ...           {}   \n",
       "\n",
       "                                     operatingIncome otherItems  \\\n",
       "0  {'raw': 3296000000, 'fmt': '3.3B', 'longFmt': ...         {}   \n",
       "1  {'raw': 4003000000, 'fmt': '4B', 'longFmt': '4...         {}   \n",
       "2  {'raw': 3735000000, 'fmt': '3.73B', 'longFmt':...         {}   \n",
       "3  {'raw': 2949000000, 'fmt': '2.95B', 'longFmt':...         {}   \n",
       "\n",
       "  otherOperatingExpenses researchDevelopment  \\\n",
       "0                     {}                  {}   \n",
       "1                     {}                  {}   \n",
       "2                     {}                  {}   \n",
       "3                     {}                  {}   \n",
       "\n",
       "                        sellingGeneralAdministrative  \\\n",
       "0  {'raw': 4642000000, 'fmt': '4.64B', 'longFmt':...   \n",
       "1  {'raw': 4725000000, 'fmt': '4.72B', 'longFmt':...   \n",
       "2  {'raw': 4689000000, 'fmt': '4.69B', 'longFmt':...   \n",
       "3  {'raw': 4831000000, 'fmt': '4.83B', 'longFmt':...   \n",
       "\n",
       "                    totalOperatingExpenses  \\\n",
       "0  {'raw': 0, 'fmt': None, 'longFmt': '0'}   \n",
       "1  {'raw': 0, 'fmt': None, 'longFmt': '0'}   \n",
       "2  {'raw': 0, 'fmt': None, 'longFmt': '0'}   \n",
       "3  {'raw': 0, 'fmt': None, 'longFmt': '0'}   \n",
       "\n",
       "                          totalOtherIncomeExpenseNet  \\\n",
       "0  {'raw': 90000000, 'fmt': '90M', 'longFmt': '90...   \n",
       "1  {'raw': 152000000, 'fmt': '152M', 'longFmt': '...   \n",
       "2  {'raw': 131000000, 'fmt': '131M', 'longFmt': '...   \n",
       "3  {'raw': 94000000, 'fmt': '94M', 'longFmt': '94...   \n",
       "\n",
       "                                        totalRevenue  \n",
       "0  {'raw': 16281000000, 'fmt': '16.28B', 'longFmt...  \n",
       "1  {'raw': 17395000000, 'fmt': '17.39B', 'longFmt...  \n",
       "2  {'raw': 16653000000, 'fmt': '16.65B', 'longFmt...  \n",
       "3  {'raw': 16079000000, 'fmt': '16.08B', 'longFmt...  \n",
       "\n",
       "[4 rows x 24 columns]"
      ]
     },
     "execution_count": 196,
     "metadata": {},
     "output_type": "execute_result"
    }
   ],
   "source": [
    "df"
   ]
  },
  {
   "cell_type": "code",
   "execution_count": 189,
   "metadata": {},
   "outputs": [
    {
     "data": {
      "text/plain": [
       "4725000000"
      ]
     },
     "execution_count": 189,
     "metadata": {},
     "output_type": "execute_result"
    }
   ],
   "source": [
    "df['sellingGeneralAdministrative'][1]['raw']"
   ]
  },
  {
   "cell_type": "code",
   "execution_count": 191,
   "metadata": {},
   "outputs": [
    {
     "data": {
      "text/plain": [
       "0    {'raw': 4642000000, 'fmt': '4.64B', 'longFmt':...\n",
       "1    {'raw': 4725000000, 'fmt': '4.72B', 'longFmt':...\n",
       "2    {'raw': 4689000000, 'fmt': '4.69B', 'longFmt':...\n",
       "3    {'raw': 4831000000, 'fmt': '4.83B', 'longFmt':...\n",
       "Name: sellingGeneralAdministrative, dtype: object"
      ]
     },
     "execution_count": 191,
     "metadata": {},
     "output_type": "execute_result"
    }
   ],
   "source": [
    "df['sellingGeneralAdministrative']"
   ]
  },
  {
   "cell_type": "code",
   "execution_count": 194,
   "metadata": {},
   "outputs": [],
   "source": [
    "sga = []\n",
    "for i in df['sellingGeneralAdministrative']:\n",
    "    sga.append(i['raw'])"
   ]
  },
  {
   "cell_type": "code",
   "execution_count": 195,
   "metadata": {},
   "outputs": [
    {
     "data": {
      "text/plain": [
       "[4642000000, 4725000000, 4689000000, 4831000000]"
      ]
     },
     "execution_count": 195,
     "metadata": {},
     "output_type": "execute_result"
    }
   ],
   "source": [
    "sga"
   ]
  },
  {
   "cell_type": "code",
   "execution_count": 198,
   "metadata": {},
   "outputs": [],
   "source": [
    "date = []\n",
    "for i in df['endDate']:\n",
    "    date.append(i['fmt'])"
   ]
  },
  {
   "cell_type": "code",
   "execution_count": 199,
   "metadata": {},
   "outputs": [
    {
     "data": {
      "text/plain": [
       "['2018-03-31', '2017-12-31', '2017-09-30', '2017-06-30']"
      ]
     },
     "execution_count": 199,
     "metadata": {},
     "output_type": "execute_result"
    }
   ],
   "source": [
    "date"
   ]
  },
  {
   "cell_type": "code",
   "execution_count": 203,
   "metadata": {},
   "outputs": [],
   "source": [
    "newdf = pd.DataFrame({'Date':date, 'SGA':sga})"
   ]
  },
  {
   "cell_type": "code",
   "execution_count": 204,
   "metadata": {},
   "outputs": [
    {
     "data": {
      "text/html": [
       "<div>\n",
       "<style scoped>\n",
       "    .dataframe tbody tr th:only-of-type {\n",
       "        vertical-align: middle;\n",
       "    }\n",
       "\n",
       "    .dataframe tbody tr th {\n",
       "        vertical-align: top;\n",
       "    }\n",
       "\n",
       "    .dataframe thead th {\n",
       "        text-align: right;\n",
       "    }\n",
       "</style>\n",
       "<table border=\"1\" class=\"dataframe\">\n",
       "  <thead>\n",
       "    <tr style=\"text-align: right;\">\n",
       "      <th></th>\n",
       "      <th>Date</th>\n",
       "      <th>SGA</th>\n",
       "    </tr>\n",
       "  </thead>\n",
       "  <tbody>\n",
       "    <tr>\n",
       "      <th>0</th>\n",
       "      <td>2018-03-31</td>\n",
       "      <td>4642000000</td>\n",
       "    </tr>\n",
       "    <tr>\n",
       "      <th>1</th>\n",
       "      <td>2017-12-31</td>\n",
       "      <td>4725000000</td>\n",
       "    </tr>\n",
       "    <tr>\n",
       "      <th>2</th>\n",
       "      <td>2017-09-30</td>\n",
       "      <td>4689000000</td>\n",
       "    </tr>\n",
       "    <tr>\n",
       "      <th>3</th>\n",
       "      <td>2017-06-30</td>\n",
       "      <td>4831000000</td>\n",
       "    </tr>\n",
       "  </tbody>\n",
       "</table>\n",
       "</div>"
      ],
      "text/plain": [
       "         Date         SGA\n",
       "0  2018-03-31  4642000000\n",
       "1  2017-12-31  4725000000\n",
       "2  2017-09-30  4689000000\n",
       "3  2017-06-30  4831000000"
      ]
     },
     "execution_count": 204,
     "metadata": {},
     "output_type": "execute_result"
    }
   ],
   "source": [
    "newdf"
   ]
  },
  {
   "cell_type": "code",
   "execution_count": null,
   "metadata": {
    "collapsed": true
   },
   "outputs": [],
   "source": []
  }
 ],
 "metadata": {
  "kernelspec": {
   "display_name": "Python 3",
   "language": "python",
   "name": "python3"
  },
  "language_info": {
   "codemirror_mode": {
    "name": "ipython",
    "version": 3
   },
   "file_extension": ".py",
   "mimetype": "text/x-python",
   "name": "python",
   "nbconvert_exporter": "python",
   "pygments_lexer": "ipython3",
   "version": "3.6.3"
  }
 },
 "nbformat": 4,
 "nbformat_minor": 1
}
